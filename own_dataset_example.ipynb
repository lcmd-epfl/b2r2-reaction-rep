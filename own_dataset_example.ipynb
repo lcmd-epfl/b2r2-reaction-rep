{
 "cells": [
  {
   "cell_type": "markdown",
   "id": "9b13ea27",
   "metadata": {},
   "source": [
    "# Own dataset example\n",
    "This example illustrates how you can generate the 3 B2R2 representations for your own dataset.\n",
    "\n",
    "You need to specify nuclear charges and coordinates of all reactant and product molecules. If you want to specify additional molecules, e.g. reagents, you can specify these together with the reactants."
   ]
  },
  {
   "cell_type": "code",
   "execution_count": 21,
   "id": "e4561db3",
   "metadata": {},
   "outputs": [],
   "source": [
    "from reactionreps.b2r2 import b2r2"
   ]
  },
  {
   "cell_type": "markdown",
   "id": "f5cc1d16",
   "metadata": {},
   "source": [
    "## Load dataset\n",
    "Here I will use the qml package to load the nuclear charges and coordinates from xyz files, but this is not necessary as long as nuclear charges and coordinates are provided."
   ]
  },
  {
   "cell_type": "code",
   "execution_count": 22,
   "id": "8b27f318",
   "metadata": {},
   "outputs": [],
   "source": [
    "import qml"
   ]
  },
  {
   "cell_type": "code",
   "execution_count": 23,
   "id": "d9416bb4",
   "metadata": {},
   "outputs": [],
   "source": [
    "from glob import glob"
   ]
  },
  {
   "cell_type": "code",
   "execution_count": 24,
   "id": "a701af1a",
   "metadata": {},
   "outputs": [],
   "source": [
    "reactants = sorted(glob(\"data/GDB7-20-TS/xyz/reactant_*.xyz\"))"
   ]
  },
  {
   "cell_type": "code",
   "execution_count": 25,
   "id": "1920dd28",
   "metadata": {},
   "outputs": [],
   "source": [
    "products = sorted(glob(\"data/GDB7-20-TS/xyz/product_*.xyz\"))"
   ]
  },
  {
   "cell_type": "code",
   "execution_count": 26,
   "id": "126217c9",
   "metadata": {},
   "outputs": [
    {
     "data": {
      "text/plain": [
       "11961"
      ]
     },
     "execution_count": 26,
     "metadata": {},
     "output_type": "execute_result"
    }
   ],
   "source": [
    "len(reactants)"
   ]
  },
  {
   "cell_type": "code",
   "execution_count": 27,
   "id": "58274227",
   "metadata": {},
   "outputs": [
    {
     "data": {
      "text/plain": [
       "11961"
      ]
     },
     "execution_count": 27,
     "metadata": {},
     "output_type": "execute_result"
    }
   ],
   "source": [
    "len(products)"
   ]
  },
  {
   "cell_type": "code",
   "execution_count": 28,
   "id": "e9045f2a",
   "metadata": {},
   "outputs": [],
   "source": [
    "# cut for demo"
   ]
  },
  {
   "cell_type": "code",
   "execution_count": 29,
   "id": "a70910f0",
   "metadata": {},
   "outputs": [],
   "source": [
    "reactants = reactants[:100]"
   ]
  },
  {
   "cell_type": "code",
   "execution_count": 30,
   "id": "58f15339",
   "metadata": {},
   "outputs": [],
   "source": [
    "products = products[:100]"
   ]
  },
  {
   "cell_type": "code",
   "execution_count": 31,
   "id": "c086e0c1",
   "metadata": {},
   "outputs": [],
   "source": [
    "mols_reactants = [qml.Compound(x) for x in reactants]"
   ]
  },
  {
   "cell_type": "markdown",
   "id": "fe758549",
   "metadata": {},
   "source": [
    "Here we have a single reactant and product, but the framework is designed to handle multiple reactants and products. Therefore provide each reactant and product as a sublist."
   ]
  },
  {
   "cell_type": "code",
   "execution_count": 32,
   "id": "f02d3347",
   "metadata": {},
   "outputs": [],
   "source": [
    "ncharges_reactants = [[x.nuclear_charges] for x in mols_reactants]"
   ]
  },
  {
   "cell_type": "code",
   "execution_count": 33,
   "id": "5c2b15db",
   "metadata": {},
   "outputs": [],
   "source": [
    "coords_reactants = [[x.coordinates] for x in mols_reactants]"
   ]
  },
  {
   "cell_type": "code",
   "execution_count": 34,
   "id": "9cb644dc",
   "metadata": {},
   "outputs": [],
   "source": [
    "mols_products = [qml.Compound(x) for x in products]"
   ]
  },
  {
   "cell_type": "code",
   "execution_count": 35,
   "id": "564db327",
   "metadata": {},
   "outputs": [],
   "source": [
    "ncharges_products = [[x.nuclear_charges] for x in mols_products]"
   ]
  },
  {
   "cell_type": "code",
   "execution_count": 36,
   "id": "e53bd753",
   "metadata": {},
   "outputs": [],
   "source": [
    "coords_products = [[x.coordinates] for x in mols_products]"
   ]
  },
  {
   "cell_type": "code",
   "execution_count": 37,
   "id": "edaeeed0",
   "metadata": {},
   "outputs": [],
   "source": [
    "import numpy as np"
   ]
  },
  {
   "cell_type": "code",
   "execution_count": 38,
   "id": "77fe7d79",
   "metadata": {},
   "outputs": [],
   "source": [
    "unique_ncharges = np.unique(np.concatenate([x[0] for x in\n",
    "                                            ncharges_reactants]))"
   ]
  },
  {
   "cell_type": "code",
   "execution_count": 39,
   "id": "2d069dc1",
   "metadata": {},
   "outputs": [
    {
     "data": {
      "text/plain": [
       "array([1, 6, 7, 8])"
      ]
     },
     "execution_count": 39,
     "metadata": {},
     "output_type": "execute_result"
    }
   ],
   "source": [
    "unique_ncharges"
   ]
  },
  {
   "cell_type": "markdown",
   "id": "96c90b0c",
   "metadata": {},
   "source": [
    "## Get representations"
   ]
  },
  {
   "cell_type": "code",
   "execution_count": 40,
   "id": "9890c4dc",
   "metadata": {},
   "outputs": [],
   "source": [
    "b2r2_n = b2r2.get_b2r2_n(ncharges_reactants, ncharges_products,\n",
    "                        coords_reactants, coords_products,\n",
    "                         elements=unique_ncharges, Rcut=3\n",
    "                        )"
   ]
  },
  {
   "cell_type": "code",
   "execution_count": 41,
   "id": "a4b57bc1",
   "metadata": {},
   "outputs": [
    {
     "data": {
      "text/plain": [
       "(100, 100)"
      ]
     },
     "execution_count": 41,
     "metadata": {},
     "output_type": "execute_result"
    }
   ],
   "source": [
    "b2r2_n.shape"
   ]
  },
  {
   "cell_type": "code",
   "execution_count": 42,
   "id": "b6e25d73",
   "metadata": {},
   "outputs": [],
   "source": [
    "b2r2_l = b2r2.get_b2r2_l(ncharges_reactants, ncharges_products,\n",
    "                        coords_reactants, coords_products,\n",
    "                         elements=unique_ncharges, Rcut=3\n",
    "                        )"
   ]
  },
  {
   "cell_type": "code",
   "execution_count": 43,
   "id": "91203f01",
   "metadata": {},
   "outputs": [
    {
     "data": {
      "text/plain": [
       "(100, 400)"
      ]
     },
     "execution_count": 43,
     "metadata": {},
     "output_type": "execute_result"
    }
   ],
   "source": [
    "b2r2_l.shape"
   ]
  },
  {
   "cell_type": "code",
   "execution_count": 44,
   "id": "95c612fa",
   "metadata": {},
   "outputs": [],
   "source": [
    "b2r2_a = b2r2.get_b2r2_a(ncharges_reactants, ncharges_products,\n",
    "                        coords_reactants, coords_products,\n",
    "                         elements=unique_ncharges, Rcut=3\n",
    "                        )"
   ]
  },
  {
   "cell_type": "code",
   "execution_count": 45,
   "id": "e60f80c2",
   "metadata": {},
   "outputs": [
    {
     "data": {
      "text/plain": [
       "(100, 1000)"
      ]
     },
     "execution_count": 45,
     "metadata": {},
     "output_type": "execute_result"
    }
   ],
   "source": [
    "b2r2_a.shape"
   ]
  },
  {
   "cell_type": "code",
   "execution_count": null,
   "id": "26891926",
   "metadata": {},
   "outputs": [],
   "source": []
  },
  {
   "cell_type": "code",
   "execution_count": null,
   "id": "c999ac12",
   "metadata": {},
   "outputs": [],
   "source": []
  },
  {
   "cell_type": "code",
   "execution_count": null,
   "id": "cbe79e90",
   "metadata": {},
   "outputs": [],
   "source": []
  },
  {
   "cell_type": "code",
   "execution_count": null,
   "id": "25fdc5b5",
   "metadata": {},
   "outputs": [],
   "source": []
  },
  {
   "cell_type": "code",
   "execution_count": null,
   "id": "5a7ccf0d",
   "metadata": {},
   "outputs": [],
   "source": []
  },
  {
   "cell_type": "code",
   "execution_count": null,
   "id": "eb9de706",
   "metadata": {},
   "outputs": [],
   "source": []
  },
  {
   "cell_type": "code",
   "execution_count": null,
   "id": "d1f60424",
   "metadata": {},
   "outputs": [],
   "source": []
  },
  {
   "cell_type": "code",
   "execution_count": null,
   "id": "62193766",
   "metadata": {},
   "outputs": [],
   "source": []
  },
  {
   "cell_type": "code",
   "execution_count": null,
   "id": "922baadf",
   "metadata": {},
   "outputs": [],
   "source": []
  },
  {
   "cell_type": "code",
   "execution_count": null,
   "id": "3af6d976",
   "metadata": {},
   "outputs": [],
   "source": []
  }
 ],
 "metadata": {
  "kernelspec": {
   "display_name": "Python 3 (ipykernel)",
   "language": "python",
   "name": "python3"
  },
  "language_info": {
   "codemirror_mode": {
    "name": "ipython",
    "version": 3
   },
   "file_extension": ".py",
   "mimetype": "text/x-python",
   "name": "python",
   "nbconvert_exporter": "python",
   "pygments_lexer": "ipython3",
   "version": "3.10.8"
  }
 },
 "nbformat": 4,
 "nbformat_minor": 5
}
